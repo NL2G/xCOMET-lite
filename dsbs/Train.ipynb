{
 "cells": [
  {
   "cell_type": "code",
   "execution_count": 1,
   "id": "bb3e4642-8df9-4831-b356-cb378fdbb399",
   "metadata": {},
   "outputs": [],
   "source": [
    "import datasets as ds\n",
    "import transformers as tr"
   ]
  },
  {
   "cell_type": "code",
   "execution_count": 2,
   "id": "dd46aff3-68b9-4c98-9bf3-9819bf4eba1c",
   "metadata": {},
   "outputs": [],
   "source": [
    "dataset = ds.load_dataset(\"nllg/mt-metric-synth-plus\", split='train')"
   ]
  },
  {
   "cell_type": "code",
   "execution_count": 3,
   "id": "978784d2-1ebf-44d9-9a35-c132f774d8e0",
   "metadata": {},
   "outputs": [],
   "source": [
    "def format_input_ref(example):\n",
    "    src = example['src']\n",
    "    ref = example['ref']\n",
    "    mt = example['mt']\n",
    "    lang1, lang2 = example['lp'].split(\"-\")\n",
    "    return {'input': f\"Translation quality of: {lang1} Source: {src}; {lang2} Reference: {ref}; {lang2} Translation: {mt}\"}"
   ]
  },
  {
   "cell_type": "code",
   "execution_count": 4,
   "id": "569d4314-e19e-4196-a78a-2623eb8a5017",
   "metadata": {},
   "outputs": [],
   "source": [
    "def format_input_qe(example):\n",
    "    src = example['src']\n",
    "    mt = example['mt']\n",
    "    lang1, lang2 = example['lp'].split(\"-\")\n",
    "    return {'input': f\"Translation quality of: {lang1} Source: {src}; {lang2} Translation: {mt}\"}"
   ]
  },
  {
   "cell_type": "code",
   "execution_count": 5,
   "id": "9968a2f5-2c95-4360-bf85-e14881e2bc52",
   "metadata": {},
   "outputs": [
    {
     "data": {
      "application/vnd.jupyter.widget-view+json": {
       "model_id": "11f559931456471b9c51cc50763c5bd3",
       "version_major": 2,
       "version_minor": 0
      },
      "text/plain": [
       "Map (num_proc=10):   0%|          | 0/13201418 [00:00<?, ? examples/s]"
      ]
     },
     "metadata": {},
     "output_type": "display_data"
    }
   ],
   "source": [
    "dataset_ref = dataset.map(\n",
    "    format_input_ref, \n",
    "    num_proc=10,\n",
    "    remove_columns=[\n",
    "        'ref', 'src', 'mt',\n",
    "        'lp', 'system', 'example-id',\n",
    "        'unit-id', 'score', 'annotations',\n",
    "        '__index_level_0__', '_tokens'\n",
    "    ]\n",
    ")"
   ]
  },
  {
   "cell_type": "code",
   "execution_count": 6,
   "id": "ce173f66-8fb5-4898-8fd0-6ca2b9666337",
   "metadata": {},
   "outputs": [
    {
     "data": {
      "application/vnd.jupyter.widget-view+json": {
       "model_id": "278b48407fb84a0496f4fbbf5ab5e2ae",
       "version_major": 2,
       "version_minor": 0
      },
      "text/plain": [
       "Map (num_proc=10):   0%|          | 0/13201418 [00:00<?, ? examples/s]"
      ]
     },
     "metadata": {},
     "output_type": "display_data"
    }
   ],
   "source": [
    "dataset_qe = dataset.map(\n",
    "    format_input_qe, \n",
    "    num_proc=10, \n",
    "    remove_columns=[\n",
    "        'ref', 'src', 'mt',\n",
    "        'lp', 'system', 'example-id',\n",
    "        'unit-id', 'score', 'annotations',\n",
    "        '__index_level_0__', '_tokens'\n",
    "    ]\n",
    ")"
   ]
  },
  {
   "cell_type": "code",
   "execution_count": 7,
   "id": "1d20e5fa-4883-4ed1-a483-3d4f2318d3dd",
   "metadata": {},
   "outputs": [],
   "source": [
    "dataset = ds.concatenate_datasets([dataset_qe, dataset_ref]).shuffle(seed=0)"
   ]
  },
  {
   "cell_type": "code",
   "execution_count": 8,
   "id": "ae1e24f5-8c0b-41c3-9afd-437c2c869278",
   "metadata": {},
   "outputs": [],
   "source": [
    "!rm -rf ./data && mkdir ./data"
   ]
  },
  {
   "cell_type": "code",
   "execution_count": 9,
   "id": "5bdfeef2-aaf0-4781-9b7b-c7be8978fd4b",
   "metadata": {},
   "outputs": [
    {
     "data": {
      "application/vnd.jupyter.widget-view+json": {
       "model_id": "06d78b0b33d643f0a15159dac46f6d0c",
       "version_major": 2,
       "version_minor": 0
      },
      "text/plain": [
       "Creating json from Arrow format:   0%|          | 0/25785 [00:00<?, ?ba/s]"
      ]
     },
     "metadata": {},
     "output_type": "display_data"
    },
    {
     "data": {
      "text/plain": [
       "24722743784"
      ]
     },
     "execution_count": 9,
     "metadata": {},
     "output_type": "execute_result"
    }
   ],
   "source": [
    "dataset.to_json(\n",
    "    './data/dataset.jsonl.zst',\n",
    "    batch_size=1024,\n",
    "    num_proc=40,\n",
    "    compression='infer'\n",
    ")"
   ]
  },
  {
   "cell_type": "code",
   "execution_count": 23,
   "id": "2ec16ded-8f5c-4705-bce6-b54ad68ad3c4",
   "metadata": {},
   "outputs": [],
   "source": [
    "from model_utils import DataCollator1Way, DataCollator2Way, DataCollator3Way"
   ]
  },
  {
   "cell_type": "code",
   "execution_count": 43,
   "id": "b042217c-04aa-406b-a025-18a00f1f6fd8",
   "metadata": {},
   "outputs": [],
   "source": [
    "collator = DataCollator3Way(tokenizer, padding=True)"
   ]
  },
  {
   "cell_type": "code",
   "execution_count": 48,
   "id": "5b9daba1-6711-44fb-9cb7-5cf4358310ee",
   "metadata": {},
   "outputs": [],
   "source": [
    "subset = dataset.select(range(1000))"
   ]
  },
  {
   "cell_type": "code",
   "execution_count": 49,
   "id": "c7300443-6c07-47ce-b8de-d4d5f247c0b1",
   "metadata": {},
   "outputs": [
    {
     "data": {
      "application/vnd.jupyter.widget-view+json": {
       "model_id": "06978cd1eb4c4ac88a3a93c4d119b11a",
       "version_major": 2,
       "version_minor": 0
      },
      "text/plain": [
       "Map:   0%|          | 0/1000 [00:00<?, ? examples/s]"
      ]
     },
     "metadata": {},
     "output_type": "display_data"
    }
   ],
   "source": [
    "subset = subset.map(tokenize_function_3way, batched=True, batch_size=32, remove_columns=subset.column_names)"
   ]
  },
  {
   "cell_type": "code",
   "execution_count": 50,
   "id": "45883bb8-5de4-46f3-9eaf-b2754a3b08bf",
   "metadata": {},
   "outputs": [],
   "source": [
    "from torch.utils.data import DataLoader"
   ]
  },
  {
   "cell_type": "code",
   "execution_count": 51,
   "id": "ef3ccdd3-7f6a-45f1-b7b7-b0a12c24f713",
   "metadata": {},
   "outputs": [],
   "source": [
    "dataloader = DataLoader(subset, batch_size=2, collate_fn=collator)"
   ]
  },
  {
   "cell_type": "code",
   "execution_count": 52,
   "id": "c461143b-79c5-4c17-a2e7-618fb106bdf2",
   "metadata": {},
   "outputs": [],
   "source": [
    "x = next(iter(dataloader))"
   ]
  },
  {
   "cell_type": "code",
   "execution_count": 54,
   "id": "88c17c5e-bd15-4b7b-bd93-77adc79f0f6b",
   "metadata": {},
   "outputs": [
    {
     "data": {
      "text/plain": [
       "torch.Size([2, 50])"
      ]
     },
     "execution_count": 54,
     "metadata": {},
     "output_type": "execute_result"
    }
   ],
   "source": [
    "x['antiexpl']['input_ids'].shape"
   ]
  },
  {
   "cell_type": "code",
   "execution_count": null,
   "id": "a7b78ddc-00ec-45b5-926f-b9f5fad085b1",
   "metadata": {},
   "outputs": [],
   "source": []
  }
 ],
 "metadata": {
  "kernelspec": {
   "display_name": "Python 3 (ipykernel)",
   "language": "python",
   "name": "python3"
  },
  "language_info": {
   "codemirror_mode": {
    "name": "ipython",
    "version": 3
   },
   "file_extension": ".py",
   "mimetype": "text/x-python",
   "name": "python",
   "nbconvert_exporter": "python",
   "pygments_lexer": "ipython3",
   "version": "3.9.7"
  }
 },
 "nbformat": 4,
 "nbformat_minor": 5
}

{
 "cells": [
  {
   "cell_type": "code",
   "execution_count": 1,
   "id": "93d143b9-1774-4e80-a67c-f2052a496dcf",
   "metadata": {},
   "outputs": [],
   "source": [
    "import numpy as np\n",
    "import pandas as pd\n",
    "import matplotlib.pyplot as plt"
   ]
  },
  {
   "cell_type": "code",
   "execution_count": 2,
   "id": "ce564d60-e17d-4a42-b094-9a1a4fd0c567",
   "metadata": {},
   "outputs": [],
   "source": [
    "# https://huggingface.co/datasets/RicardoRei/wmt-mqm-error-spans\n",
    "spans = pd.read_json(path_or_buf=\"data/train.jsonl\", lines=True)\n",
    "\n",
    "# https://huggingface.co/datasets/RicardoRei/wmt-mqm-human-evaluation\n",
    "mqm = pd.read_csv(\"data/wmt-mqm-human-evaluation.csv\")"
   ]
  },
  {
   "cell_type": "markdown",
   "id": "23401388-330c-446f-89d9-cada9494ec19",
   "metadata": {},
   "source": [
    "## Looking around"
   ]
  },
  {
   "cell_type": "code",
   "execution_count": 3,
   "id": "912d73b6-9b8e-4e64-a134-cdb4895b9f5c",
   "metadata": {},
   "outputs": [
    {
     "data": {
      "text/plain": [
       "Index(['src', 'mt', 'ref', 'annotations', 'lp'], dtype='object')"
      ]
     },
     "execution_count": 3,
     "metadata": {},
     "output_type": "execute_result"
    }
   ],
   "source": [
    "spans.columns"
   ]
  },
  {
   "cell_type": "code",
   "execution_count": 4,
   "id": "036dfe8d-219a-46fd-b847-7e6c9defe5c3",
   "metadata": {},
   "outputs": [
    {
     "data": {
      "text/plain": [
       "Index(['lp', 'src', 'mt', 'ref', 'score', 'system', 'annotators', 'domain',\n",
       "       'year'],\n",
       "      dtype='object')"
      ]
     },
     "execution_count": 4,
     "metadata": {},
     "output_type": "execute_result"
    }
   ],
   "source": [
    "mqm.columns"
   ]
  },
  {
   "cell_type": "code",
   "execution_count": 5,
   "id": "556c72b6-1e55-4cd9-a6df-daf639a6b368",
   "metadata": {},
   "outputs": [
    {
     "data": {
      "image/png": "[encoded data removed]",
      "text/plain": [
       "<Figure size 640x480 with 1 Axes>"
      ]
     },
     "metadata": {},
     "output_type": "display_data"
    }
   ],
   "source": [
    "plt.title(\"MQM scores\")\n",
    "plt.hist(mqm.score, bins=30,)\n",
    "plt.show()"
   ]
  },
  {
   "cell_type": "code",
   "execution_count": 6,
   "id": "ee035c91-af9a-4a0c-911d-03ccd4c06320",
   "metadata": {},
   "outputs": [
    {
     "data": {
      "text/plain": [
       "(167360, 150347)"
      ]
     },
     "execution_count": 6,
     "metadata": {},
     "output_type": "execute_result"
    }
   ],
   "source": [
    "len(spans), len(mqm)"
   ]
  },
  {
   "cell_type": "code",
   "execution_count": 7,
   "id": "8bf4e82e-f9e5-4e77-9ad5-f1f6cd62cb9f",
   "metadata": {},
   "outputs": [
    {
     "data": {
      "text/plain": [
       "src     10115\n",
       "mt     131823\n",
       "ref     12271\n",
       "lp          3\n",
       "dtype: int64"
      ]
     },
     "execution_count": 7,
     "metadata": {},
     "output_type": "execute_result"
    }
   ],
   "source": [
    "spans.drop(columns=[\"annotations\"]).nunique()"
   ]
  },
  {
   "cell_type": "code",
   "execution_count": 8,
   "id": "9601dbc4-e0f8-4852-ab10-00d14356f846",
   "metadata": {},
   "outputs": [
    {
     "data": {
      "text/plain": [
       "lp                 3\n",
       "src             8933\n",
       "mt            118092\n",
       "ref            16076\n",
       "score            967\n",
       "system            62\n",
       "annotators         2\n",
       "domain             5\n",
       "year               3\n",
       "dtype: int64"
      ]
     },
     "execution_count": 8,
     "metadata": {},
     "output_type": "execute_result"
    }
   ],
   "source": [
    "mqm.nunique()"
   ]
  },
  {
   "cell_type": "code",
   "execution_count": 9,
   "id": "26d0d15d-005c-4cb4-9b34-d41bd45ccc3b",
   "metadata": {},
   "outputs": [
    {
     "data": {
      "text/plain": [
       "src     10774\n",
       "mt     144080\n",
       "ref     18039\n",
       "dtype: int64"
      ]
     },
     "execution_count": 9,
     "metadata": {},
     "output_type": "execute_result"
    }
   ],
   "source": [
    "text = [\"src\", \"mt\", \"ref\"]\n",
    "\n",
    "concat = pd.concat([spans[text], mqm[text]], axis=0)\n",
    "concat.nunique()"
   ]
  },
  {
   "cell_type": "code",
   "execution_count": 10,
   "id": "4e3d6de4-7dd0-48e8-b96d-af34efedcc02",
   "metadata": {},
   "outputs": [],
   "source": [
    "translations_counts = spans[\"mt\"].value_counts()"
   ]
  },
  {
   "cell_type": "code",
   "execution_count": 11,
   "id": "d1e7a497-52d7-463f-bd82-d85559bc004a",
   "metadata": {},
   "outputs": [
    {
     "data": {
      "text/plain": [
       "mt\n",
       "Tippen Sie auf Einstellungen.                                                                                                                                                                                                                                                                    117\n",
       "Перейдите на главный экран.                                                                                                                                                                                                                                                                      116\n",
       "Tippen Sie auf Geräteinformationen.                                                                                                                                                                                                                                                               96\n",
       "Gehen Sie zu Ihrem Startbildschirm.                                                                                                                                                                                                                                                               92\n",
       "Отпустите кнопку питания.                                                                                                                                                                                                                                                                         84\n",
       "                                                                                                                                                                                                                                                                                                ... \n",
       "Tony Blair schwört, trotz heftiger Brexit-Gegenreaktionen nie aufhören zu wollen, sich in die britische Politik einzumischen                                                                                                                                                                       2\n",
       "The \"strong confrontation\" is more like a fairy fight, and Sun Jianqi, who is known as the \"Great Devil\", and Zhang Xindong, who has the same strength, performs a strong confrontation.                                                                                                           2\n",
       "И я искренне верю, что это может случиться.                                                                                                                                                                                                                                                        2\n",
       "Он уезжает от нас сегодня в то время, когда он нужен Алжиру », - сказал президент.                                                                                                                                                                                                                 2\n",
       "Peng Jining, vice chairman of the US-China Trade National Committee, said that maintaining the momentum of the first phase of the agreement is \"more important than ever\" and pointed out that China has made progress in further opening up its financial markets to US companies this year.      2\n",
       "Name: count, Length: 20035, dtype: int64"
      ]
     },
     "execution_count": 11,
     "metadata": {},
     "output_type": "execute_result"
    }
   ],
   "source": [
    "translations_counts[translations_counts > 1]"
   ]
  },
  {
   "cell_type": "code",
   "execution_count": 12,
   "id": "f73f016f-d841-4516-916f-47f40d89e4de",
   "metadata": {},
   "outputs": [
    {
     "data": {
      "text/plain": [
       "'Tippen Sie auf Einstellungen.'"
      ]
     },
     "execution_count": 12,
     "metadata": {},
     "output_type": "execute_result"
    }
   ],
   "source": [
    "popular_translation = translations_counts[translations_counts > 1].index[0]\n",
    "popular_translation"
   ]
  },
  {
   "cell_type": "code",
   "execution_count": 13,
   "id": "b26ce5b8-1ed5-43ae-af44-3231cc4d524d",
   "metadata": {},
   "outputs": [
    {
     "data": {
      "text/html": [
       "<div>\n",
       "<style scoped>\n",
       "    .dataframe tbody tr th:only-of-type {\n",
       "        vertical-align: middle;\n",
       "    }\n",
       "\n",
       "    .dataframe tbody tr th {\n",
       "        vertical-align: top;\n",
       "    }\n",
       "\n",
       "    .dataframe thead th {\n",
       "        text-align: right;\n",
       "    }\n",
       "</style>\n",
       "<table border=\"1\" class=\"dataframe\">\n",
       "  <thead>\n",
       "    <tr style=\"text-align: right;\">\n",
       "      <th></th>\n",
       "      <th>src</th>\n",
       "      <th>mt</th>\n",
       "      <th>ref</th>\n",
       "      <th>annotations</th>\n",
       "      <th>lp</th>\n",
       "    </tr>\n",
       "  </thead>\n",
       "  <tbody>\n",
       "    <tr>\n",
       "      <th>81</th>\n",
       "      <td>Tap Settings.</td>\n",
       "      <td>Tippen Sie auf Einstellungen.</td>\n",
       "      <td>Tippen Sie auf „Einstellungen“.</td>\n",
       "      <td>[{'start': 15, 'end': 27, 'severity': 'minor',...</td>\n",
       "      <td>en-de</td>\n",
       "    </tr>\n",
       "    <tr>\n",
       "      <th>87</th>\n",
       "      <td>Tap Settings.</td>\n",
       "      <td>Tippen Sie auf Einstellungen.</td>\n",
       "      <td>Tippen Sie auf „Einstellungen“.</td>\n",
       "      <td>[]</td>\n",
       "      <td>en-de</td>\n",
       "    </tr>\n",
       "    <tr>\n",
       "      <th>122</th>\n",
       "      <td>Tap Settings.</td>\n",
       "      <td>Tippen Sie auf Einstellungen.</td>\n",
       "      <td>Tippen Sie auf „Einstellungen“.</td>\n",
       "      <td>[]</td>\n",
       "      <td>en-de</td>\n",
       "    </tr>\n",
       "    <tr>\n",
       "      <th>167</th>\n",
       "      <td>Tap Settings.</td>\n",
       "      <td>Tippen Sie auf Einstellungen.</td>\n",
       "      <td>Tippen Sie auf „Einstellungen“.</td>\n",
       "      <td>[]</td>\n",
       "      <td>en-de</td>\n",
       "    </tr>\n",
       "    <tr>\n",
       "      <th>185</th>\n",
       "      <td>Tap Settings.</td>\n",
       "      <td>Tippen Sie auf Einstellungen.</td>\n",
       "      <td>Tippen Sie auf „Einstellungen“.</td>\n",
       "      <td>[{'start': 15, 'end': 27, 'severity': 'minor',...</td>\n",
       "      <td>en-de</td>\n",
       "    </tr>\n",
       "    <tr>\n",
       "      <th>...</th>\n",
       "      <td>...</td>\n",
       "      <td>...</td>\n",
       "      <td>...</td>\n",
       "      <td>...</td>\n",
       "      <td>...</td>\n",
       "    </tr>\n",
       "    <tr>\n",
       "      <th>5983</th>\n",
       "      <td>Tap Settings.</td>\n",
       "      <td>Tippen Sie auf Einstellungen.</td>\n",
       "      <td>Tippen Sie auf „Einstellungen“.</td>\n",
       "      <td>[]</td>\n",
       "      <td>en-de</td>\n",
       "    </tr>\n",
       "    <tr>\n",
       "      <th>6066</th>\n",
       "      <td>Tap Settings.</td>\n",
       "      <td>Tippen Sie auf Einstellungen.</td>\n",
       "      <td>Tippen Sie auf „Einstellungen“.</td>\n",
       "      <td>[]</td>\n",
       "      <td>en-de</td>\n",
       "    </tr>\n",
       "    <tr>\n",
       "      <th>6099</th>\n",
       "      <td>Tap Settings.</td>\n",
       "      <td>Tippen Sie auf Einstellungen.</td>\n",
       "      <td>Tippen Sie auf „Einstellungen“.</td>\n",
       "      <td>[]</td>\n",
       "      <td>en-de</td>\n",
       "    </tr>\n",
       "    <tr>\n",
       "      <th>6110</th>\n",
       "      <td>Tap Settings.</td>\n",
       "      <td>Tippen Sie auf Einstellungen.</td>\n",
       "      <td>Tippen Sie auf „Einstellungen“.</td>\n",
       "      <td>[]</td>\n",
       "      <td>en-de</td>\n",
       "    </tr>\n",
       "    <tr>\n",
       "      <th>6121</th>\n",
       "      <td>Tap Settings.</td>\n",
       "      <td>Tippen Sie auf Einstellungen.</td>\n",
       "      <td>Tippen Sie auf „Einstellungen“.</td>\n",
       "      <td>[]</td>\n",
       "      <td>en-de</td>\n",
       "    </tr>\n",
       "  </tbody>\n",
       "</table>\n",
       "<p>117 rows × 5 columns</p>\n",
       "</div>"
      ],
      "text/plain": [
       "                src                             mt  \\\n",
       "81    Tap Settings.  Tippen Sie auf Einstellungen.   \n",
       "87    Tap Settings.  Tippen Sie auf Einstellungen.   \n",
       "122   Tap Settings.  Tippen Sie auf Einstellungen.   \n",
       "167   Tap Settings.  Tippen Sie auf Einstellungen.   \n",
       "185   Tap Settings.  Tippen Sie auf Einstellungen.   \n",
       "...             ...                            ...   \n",
       "5983  Tap Settings.  Tippen Sie auf Einstellungen.   \n",
       "6066  Tap Settings.  Tippen Sie auf Einstellungen.   \n",
       "6099  Tap Settings.  Tippen Sie auf Einstellungen.   \n",
       "6110  Tap Settings.  Tippen Sie auf Einstellungen.   \n",
       "6121  Tap Settings.  Tippen Sie auf Einstellungen.   \n",
       "\n",
       "                                  ref  \\\n",
       "81    Tippen Sie auf „Einstellungen“.   \n",
       "87    Tippen Sie auf „Einstellungen“.   \n",
       "122   Tippen Sie auf „Einstellungen“.   \n",
       "167   Tippen Sie auf „Einstellungen“.   \n",
       "185   Tippen Sie auf „Einstellungen“.   \n",
       "...                               ...   \n",
       "5983  Tippen Sie auf „Einstellungen“.   \n",
       "6066  Tippen Sie auf „Einstellungen“.   \n",
       "6099  Tippen Sie auf „Einstellungen“.   \n",
       "6110  Tippen Sie auf „Einstellungen“.   \n",
       "6121  Tippen Sie auf „Einstellungen“.   \n",
       "\n",
       "                                            annotations     lp  \n",
       "81    [{'start': 15, 'end': 27, 'severity': 'minor',...  en-de  \n",
       "87                                                   []  en-de  \n",
       "122                                                  []  en-de  \n",
       "167                                                  []  en-de  \n",
       "185   [{'start': 15, 'end': 27, 'severity': 'minor',...  en-de  \n",
       "...                                                 ...    ...  \n",
       "5983                                                 []  en-de  \n",
       "6066                                                 []  en-de  \n",
       "6099                                                 []  en-de  \n",
       "6110                                                 []  en-de  \n",
       "6121                                                 []  en-de  \n",
       "\n",
       "[117 rows x 5 columns]"
      ]
     },
     "execution_count": 13,
     "metadata": {},
     "output_type": "execute_result"
    }
   ],
   "source": [
    "spans[spans[\"mt\"] == popular_translation]"
   ]
  },
  {
   "cell_type": "code",
   "execution_count": 14,
   "id": "45caebe5-871b-43a9-9c2b-4876b3532de2",
   "metadata": {},
   "outputs": [
    {
     "data": {
      "text/plain": [
       "[{'start': 15, 'end': 27, 'severity': 'minor', 'text': 'Einstellunge'}]"
      ]
     },
     "execution_count": 14,
     "metadata": {},
     "output_type": "execute_result"
    }
   ],
   "source": [
    "spans.loc[spans[\"mt\"] == popular_translation, \"annotations\"].iloc[0]"
   ]
  },
  {
   "cell_type": "code",
   "execution_count": 15,
   "id": "0ebc89ce-2490-4e98-abef-680696a644e6",
   "metadata": {},
   "outputs": [],
   "source": [
    "mqm_translations_counts = mqm[\"mt\"].value_counts()"
   ]
  },
  {
   "cell_type": "code",
   "execution_count": 16,
   "id": "b14c6bff-dce8-473f-8062-5feb95fc9bcd",
   "metadata": {},
   "outputs": [
    {
     "data": {
      "text/plain": [
       "mt\n",
       "Tippen Sie auf Einstellungen.                                                                                                                                                                                                                                                                                                                 117\n",
       "Перейдите на главный экран.                                                                                                                                                                                                                                                                                                                   110\n",
       "Tippen Sie auf Geräteinformationen.                                                                                                                                                                                                                                                                                                            96\n",
       "Gehen Sie zu Ihrem Startbildschirm.                                                                                                                                                                                                                                                                                                            92\n",
       "Отпустите кнопку питания.                                                                                                                                                                                                                                                                                                                      78\n",
       "                                                                                                                                                                                                                                                                                                                                             ... \n",
       "Stellen Sie sich nun eine astrophysikalisch realistische Situation vor – stellen Sie sich zwei Schwarze Löcher vor, die ein langes Leben miteinander verbracht haben.                                                                                                                                                                           1\n",
       "Wir haben noch nie einen solchen Schatten eines Schwarzen Lochs gesehen, aber Schwarze Löcher kann man hören, auch wenn man sie nicht sieht.                                                                                                                                                                                                    1\n",
       "Und obwohl sich unsere Uhren aufgrund eines relativistischen Effekts, der als Zeitdilatation bekannt ist, im Vergleich zur galaktischen Zeit zu verlangsamen scheinen, würde es so aussehen, als wäre die Entwicklung der Galaxie beschleunigt und auf uns geschossen worden, kurz bevor wir vom Schwarzen Loch zu Tode gequetscht wurden.      1\n",
       "Aber obwohl das Schwarze Loch von außen dunkel ist, ist es im Inneren nicht dunkel, weil das gesamte Licht der Galaxie hinter uns hereinfallen kann.                                                                                                                                                                                            1\n",
       "У вас прекрасный день                                                                                                                                                                                                                                                                                                                           1\n",
       "Name: count, Length: 118092, dtype: int64"
      ]
     },
     "execution_count": 16,
     "metadata": {},
     "output_type": "execute_result"
    }
   ],
   "source": [
    "mqm_translations_counts"
   ]
  },
  {
   "cell_type": "markdown",
   "id": "29526267-10e0-4c3e-a63a-e41b52591ef7",
   "metadata": {},
   "source": [
    "## Filter out \"news\" 2020:"
   ]
  },
  {
   "cell_type": "code",
   "execution_count": 17,
   "id": "c9686400-6a9c-4489-bdf9-a43f61524783",
   "metadata": {},
   "outputs": [],
   "source": [
    "test = mqm[(mqm[\"domain\"] == \"news\") & (mqm[\"year\"] == 2022)]"
   ]
  },
  {
   "cell_type": "code",
   "execution_count": 18,
   "id": "b82474ac-c9ee-4ae8-8efe-770d8a9cccc1",
   "metadata": {},
   "outputs": [
    {
     "data": {
      "text/plain": [
       "16575"
      ]
     },
     "execution_count": 18,
     "metadata": {},
     "output_type": "execute_result"
    }
   ],
   "source": [
    "len(test)"
   ]
  },
  {
   "cell_type": "code",
   "execution_count": 19,
   "id": "41cfce54-66c6-4b5f-a441-a759cb5f0cbc",
   "metadata": {},
   "outputs": [
    {
     "data": {
      "text/plain": [
       "lp\n",
       "zh-en    7575\n",
       "en-de    4500\n",
       "en-ru    4500\n",
       "Name: count, dtype: int64"
      ]
     },
     "execution_count": 19,
     "metadata": {},
     "output_type": "execute_result"
    }
   ],
   "source": [
    "test.lp.value_counts()"
   ]
  },
  {
   "cell_type": "code",
   "execution_count": 20,
   "id": "eca5811a-939f-486e-9a37-95088cde73f3",
   "metadata": {},
   "outputs": [],
   "source": [
    "def filter_out_test(data, test, column_set):\n",
    "    filtered = data.copy()\n",
    "\n",
    "    for col in column_set:\n",
    "        black_list = set(test[col].unique())\n",
    "        filtered = filtered[~filtered[col].isin(black_list)]\n",
    "\n",
    "    return filtered"
   ]
  },
  {
   "cell_type": "code",
   "execution_count": 21,
   "id": "aaca08e6-0fcb-4c3e-af3b-ef99d4f8713c",
   "metadata": {},
   "outputs": [],
   "source": [
    "column_set = [\"src\", \"mt\", \"ref\"]\n",
    "filtered = filter_out_test(spans, test, column_set)"
   ]
  },
  {
   "cell_type": "code",
   "execution_count": 22,
   "id": "9da1fc1b-67fc-47e9-b1fb-fc24c7ab4902",
   "metadata": {},
   "outputs": [],
   "source": [
    "for col in column_set:\n",
    "    assert len(np.intersect1d(filtered[col].unique(), test[col].unique())) == 0, col"
   ]
  },
  {
   "cell_type": "code",
   "execution_count": 23,
   "id": "4845d5d7-8483-4a44-b102-6db5c3fe767a",
   "metadata": {},
   "outputs": [
    {
     "data": {
      "text/plain": [
       "150485"
      ]
     },
     "execution_count": 23,
     "metadata": {},
     "output_type": "execute_result"
    }
   ],
   "source": [
    "len(filtered)"
   ]
  },
  {
   "cell_type": "code",
   "execution_count": 24,
   "id": "4a34bbae-4532-48b5-ab1b-a9c02510ef87",
   "metadata": {},
   "outputs": [
    {
     "data": {
      "text/plain": [
       "150785"
      ]
     },
     "execution_count": 24,
     "metadata": {},
     "output_type": "execute_result"
    }
   ],
   "source": [
    "len(spans) - len(test)"
   ]
  },
  {
   "cell_type": "markdown",
   "id": "7f864c29-4a13-4fe6-8ab9-9783b125ac75",
   "metadata": {},
   "source": [
    "## Try to add domain and year data to train"
   ]
  },
  {
   "cell_type": "markdown",
   "id": "907be260-e3f3-4e9f-bd81-51bf3ac22cbe",
   "metadata": {},
   "source": [
    "Ensure that for each source sentence the year and domain data is consistent:"
   ]
  },
  {
   "cell_type": "code",
   "execution_count": 25,
   "id": "5a675058-e0eb-45f1-81de-946cca7ec9a6",
   "metadata": {},
   "outputs": [
    {
     "data": {
      "text/plain": [
       "1.0"
      ]
     },
     "execution_count": 25,
     "metadata": {},
     "output_type": "execute_result"
    }
   ],
   "source": [
    "mqm.groupby(\"src\")[\"year\"].nunique().mean()"
   ]
  },
  {
   "cell_type": "code",
   "execution_count": 26,
   "id": "a94678ff-3821-4241-be4d-8283bf37cd12",
   "metadata": {},
   "outputs": [
    {
     "data": {
      "text/plain": [
       "1.0"
      ]
     },
     "execution_count": 26,
     "metadata": {},
     "output_type": "execute_result"
    }
   ],
   "source": [
    "mqm.groupby(\"src\")[\"domain\"].nunique().mean()"
   ]
  },
  {
   "cell_type": "markdown",
   "id": "6db7c694-93f6-4a37-a75c-1b7417861800",
   "metadata": {},
   "source": [
    "For each unique source sentence keep it's year and domain:"
   ]
  },
  {
   "cell_type": "code",
   "execution_count": 27,
   "id": "2529f783-5882-4153-a747-ca2e970c7b5b",
   "metadata": {},
   "outputs": [
    {
     "data": {
      "text/html": [
       "<div>\n",
       "<style scoped>\n",
       "    .dataframe tbody tr th:only-of-type {\n",
       "        vertical-align: middle;\n",
       "    }\n",
       "\n",
       "    .dataframe tbody tr th {\n",
       "        vertical-align: top;\n",
       "    }\n",
       "\n",
       "    .dataframe thead th {\n",
       "        text-align: right;\n",
       "    }\n",
       "</style>\n",
       "<table border=\"1\" class=\"dataframe\">\n",
       "  <thead>\n",
       "    <tr style=\"text-align: right;\">\n",
       "      <th></th>\n",
       "      <th>src</th>\n",
       "      <th>year</th>\n",
       "      <th>domain</th>\n",
       "    </tr>\n",
       "  </thead>\n",
       "  <tbody>\n",
       "    <tr>\n",
       "      <th>0</th>\n",
       "      <td>Michael Jackson wore tape on his nose to get f...</td>\n",
       "      <td>2020</td>\n",
       "      <td>news</td>\n",
       "    </tr>\n",
       "    <tr>\n",
       "      <th>1</th>\n",
       "      <td>Michael Jackson's former bodyguard has claimed...</td>\n",
       "      <td>2020</td>\n",
       "      <td>news</td>\n",
       "    </tr>\n",
       "    <tr>\n",
       "      <th>2</th>\n",
       "      <td>Matt Fiddes, now a property developer and owne...</td>\n",
       "      <td>2020</td>\n",
       "      <td>news</td>\n",
       "    </tr>\n",
       "    <tr>\n",
       "      <th>3</th>\n",
       "      <td>To get front pages, he would reportedly don su...</td>\n",
       "      <td>2020</td>\n",
       "      <td>news</td>\n",
       "    </tr>\n",
       "    <tr>\n",
       "      <th>4</th>\n",
       "      <td>We'll tell you what's true. You can form your ...</td>\n",
       "      <td>2020</td>\n",
       "      <td>news</td>\n",
       "    </tr>\n",
       "  </tbody>\n",
       "</table>\n",
       "</div>"
      ],
      "text/plain": [
       "                                                 src  year domain\n",
       "0  Michael Jackson wore tape on his nose to get f...  2020   news\n",
       "1  Michael Jackson's former bodyguard has claimed...  2020   news\n",
       "2  Matt Fiddes, now a property developer and owne...  2020   news\n",
       "3  To get front pages, he would reportedly don su...  2020   news\n",
       "4  We'll tell you what's true. You can form your ...  2020   news"
      ]
     },
     "execution_count": 27,
     "metadata": {},
     "output_type": "execute_result"
    }
   ],
   "source": [
    "unique_src = mqm.drop_duplicates(\"src\")[[\"src\", \"year\", \"domain\"]]\n",
    "unique_src.head()"
   ]
  },
  {
   "cell_type": "code",
   "execution_count": 28,
   "id": "325aebfa-e31f-4811-8bd6-97ce39dc80ad",
   "metadata": {},
   "outputs": [],
   "source": [
    "extended_filtered = filtered.merge(unique_src, on=\"src\", how=\"left\", suffixes=[\"_spans\", \"_mqm\"])"
   ]
  },
  {
   "cell_type": "code",
   "execution_count": 29,
   "id": "76ee67d8-c87e-4bd5-970a-8d1d882e826a",
   "metadata": {},
   "outputs": [
    {
     "data": {
      "text/plain": [
       "(150485, 150485)"
      ]
     },
     "execution_count": 29,
     "metadata": {},
     "output_type": "execute_result"
    }
   ],
   "source": [
    "len(extended_filtered), len(filtered)"
   ]
  },
  {
   "cell_type": "code",
   "execution_count": 30,
   "id": "63a73ede-a874-490d-9362-2a0c412d016e",
   "metadata": {},
   "outputs": [
    {
     "data": {
      "text/plain": [
       "(0.024673555503870816, 0.024673555503870816)"
      ]
     },
     "execution_count": 30,
     "metadata": {},
     "output_type": "execute_result"
    }
   ],
   "source": [
    "extended_filtered[\"domain\"].isna().mean(), extended_filtered[\"year\"].isna().mean()"
   ]
  },
  {
   "cell_type": "markdown",
   "id": "99ce45a1-8920-4478-b21a-a1a7a81ac7b5",
   "metadata": {},
   "source": [
    "Apparently, some source sentences in dataset with spans are new. For them let's mark year and domain as unknown."
   ]
  },
  {
   "cell_type": "code",
   "execution_count": 31,
   "id": "f83d6b62-0c11-4f08-a732-905837c86787",
   "metadata": {},
   "outputs": [],
   "source": [
    "extended_filtered = extended_filtered.fillna(\"__unknown__\")"
   ]
  },
  {
   "cell_type": "markdown",
   "id": "6cb12aa1-5c5c-4921-98dc-ce1175e9b320",
   "metadata": {},
   "source": [
    "Let's add MQM score column, computing MQM as described in xCOMET [paper](https://arxiv.org/pdf/2310.10482.pdf) (section 4.2.2)."
   ]
  },
  {
   "cell_type": "code",
   "execution_count": 32,
   "id": "5b880455-7756-42ff-93b2-e15ca4f9cef2",
   "metadata": {},
   "outputs": [],
   "source": [
    "severity_to_weight = {\n",
    "    \"minor\": 1,\n",
    "    \"major\": 5,\n",
    "    \"critical\": 10,\n",
    "}\n",
    "\n",
    "def annotation_to_score(sample):\n",
    "    annot = sample[\"annotations\"]\n",
    "\n",
    "    score = 0\n",
    "    for error in annot:\n",
    "        score += severity_to_weight[error[\"severity\"]]\n",
    "\n",
    "    return (25 - score) / 25 if score < 25 else 0"
   ]
  },
  {
   "cell_type": "code",
   "execution_count": 33,
   "id": "ec41ce68-6e9c-4203-98fe-ce13020f9e2e",
   "metadata": {},
   "outputs": [],
   "source": [
    "extended_filtered[\"score\"] = extended_filtered.apply(annotation_to_score, axis=1)"
   ]
  },
  {
   "cell_type": "markdown",
   "id": "2dcfd9ca-450d-4737-b515-35c520d1e73d",
   "metadata": {},
   "source": [
    "### Examples"
   ]
  },
  {
   "cell_type": "code",
   "execution_count": 34,
   "id": "2d6873c4-dda0-478c-84f5-df8e85fd8f8d",
   "metadata": {},
   "outputs": [
    {
     "data": {
      "text/html": [
       "<div>\n",
       "<style scoped>\n",
       "    .dataframe tbody tr th:only-of-type {\n",
       "        vertical-align: middle;\n",
       "    }\n",
       "\n",
       "    .dataframe tbody tr th {\n",
       "        vertical-align: top;\n",
       "    }\n",
       "\n",
       "    .dataframe thead th {\n",
       "        text-align: right;\n",
       "    }\n",
       "</style>\n",
       "<table border=\"1\" class=\"dataframe\">\n",
       "  <thead>\n",
       "    <tr style=\"text-align: right;\">\n",
       "      <th></th>\n",
       "      <th>src</th>\n",
       "      <th>mt</th>\n",
       "      <th>ref</th>\n",
       "      <th>annotations</th>\n",
       "      <th>lp</th>\n",
       "      <th>year</th>\n",
       "      <th>domain</th>\n",
       "      <th>score</th>\n",
       "    </tr>\n",
       "  </thead>\n",
       "  <tbody>\n",
       "    <tr>\n",
       "      <th>31892</th>\n",
       "      <td>However, the star's family reality show Keepin...</td>\n",
       "      <td>Allerdings zeigte die Familien-Reality-Show de...</td>\n",
       "      <td>Jedoch war in der Reality Show der Familie, „K...</td>\n",
       "      <td>[{'start': 22, 'end': 53, 'severity': 'minor',...</td>\n",
       "      <td>en-de</td>\n",
       "      <td>2020.0</td>\n",
       "      <td>news</td>\n",
       "      <td>0.96</td>\n",
       "    </tr>\n",
       "    <tr>\n",
       "      <th>19450</th>\n",
       "      <td>I am not talking about perfect equality, I'm t...</td>\n",
       "      <td>Ich spreche nicht von perfekter Gleichheit, ic...</td>\n",
       "      <td>Ich meine nicht perfekte Gleichheit, ich sprec...</td>\n",
       "      <td>[{'start': 72, 'end': 78, 'severity': 'minor',...</td>\n",
       "      <td>en-de</td>\n",
       "      <td>2021.0</td>\n",
       "      <td>ted</td>\n",
       "      <td>0.92</td>\n",
       "    </tr>\n",
       "    <tr>\n",
       "      <th>90047</th>\n",
       "      <td>周漪婷同学则说，如何挖掘品牌文化，让优质的传统文化代代传承、生生不息，是我们作为设计专业学生...</td>\n",
       "      <td>Student Zhou Yiting said that how to tap into ...</td>\n",
       "      <td>Student Zhou Yiting says that as a student mas...</td>\n",
       "      <td>[{'start': 0, 'end': 12, 'severity': 'major', ...</td>\n",
       "      <td>zh-en</td>\n",
       "      <td>2020.0</td>\n",
       "      <td>news</td>\n",
       "      <td>0.80</td>\n",
       "    </tr>\n",
       "    <tr>\n",
       "      <th>135920</th>\n",
       "      <td>For the second consecutive time, Mr Patrick Af...</td>\n",
       "      <td>Главный руководитель управления цепями поставк...</td>\n",
       "      <td>Главный руководитель управления цепями поставк...</td>\n",
       "      <td>[]</td>\n",
       "      <td>en-ru</td>\n",
       "      <td>__unknown__</td>\n",
       "      <td>__unknown__</td>\n",
       "      <td>1.00</td>\n",
       "    </tr>\n",
       "    <tr>\n",
       "      <th>81920</th>\n",
       "      <td>互动知识分享节目《叮咚上线!老师好》,将于7月20日起在湖南卫视播出。</td>\n",
       "      <td>Interactive knowledge sharing program \"Ding Do...</td>\n",
       "      <td>Interactive knowledge sharing program “Ding Do...</td>\n",
       "      <td>[{'start': 39, 'end': 55, 'severity': 'major',...</td>\n",
       "      <td>zh-en</td>\n",
       "      <td>2021.0</td>\n",
       "      <td>news</td>\n",
       "      <td>0.60</td>\n",
       "    </tr>\n",
       "    <tr>\n",
       "      <th>93239</th>\n",
       "      <td>大鹏导演《吉祥如意》入围金爵奖-新华网</td>\n",
       "      <td>Director Dapeng's \"Auspicious Ruyi\" shortliste...</td>\n",
       "      <td>The Reunions directed by Dapeng was shortliste...</td>\n",
       "      <td>[{'start': 18, 'end': 35, 'severity': 'minor',...</td>\n",
       "      <td>zh-en</td>\n",
       "      <td>2021.0</td>\n",
       "      <td>news</td>\n",
       "      <td>0.76</td>\n",
       "    </tr>\n",
       "  </tbody>\n",
       "</table>\n",
       "</div>"
      ],
      "text/plain": [
       "                                                      src  \\\n",
       "31892   However, the star's family reality show Keepin...   \n",
       "19450   I am not talking about perfect equality, I'm t...   \n",
       "90047   周漪婷同学则说，如何挖掘品牌文化，让优质的传统文化代代传承、生生不息，是我们作为设计专业学生...   \n",
       "135920  For the second consecutive time, Mr Patrick Af...   \n",
       "81920                 互动知识分享节目《叮咚上线!老师好》,将于7月20日起在湖南卫视播出。   \n",
       "93239                                 大鹏导演《吉祥如意》入围金爵奖-新华网   \n",
       "\n",
       "                                                       mt  \\\n",
       "31892   Allerdings zeigte die Familien-Reality-Show de...   \n",
       "19450   Ich spreche nicht von perfekter Gleichheit, ic...   \n",
       "90047   Student Zhou Yiting said that how to tap into ...   \n",
       "135920  Главный руководитель управления цепями поставк...   \n",
       "81920   Interactive knowledge sharing program \"Ding Do...   \n",
       "93239   Director Dapeng's \"Auspicious Ruyi\" shortliste...   \n",
       "\n",
       "                                                      ref  \\\n",
       "31892   Jedoch war in der Reality Show der Familie, „K...   \n",
       "19450   Ich meine nicht perfekte Gleichheit, ich sprec...   \n",
       "90047   Student Zhou Yiting says that as a student mas...   \n",
       "135920  Главный руководитель управления цепями поставк...   \n",
       "81920   Interactive knowledge sharing program “Ding Do...   \n",
       "93239   The Reunions directed by Dapeng was shortliste...   \n",
       "\n",
       "                                              annotations     lp         year  \\\n",
       "31892   [{'start': 22, 'end': 53, 'severity': 'minor',...  en-de       2020.0   \n",
       "19450   [{'start': 72, 'end': 78, 'severity': 'minor',...  en-de       2021.0   \n",
       "90047   [{'start': 0, 'end': 12, 'severity': 'major', ...  zh-en       2020.0   \n",
       "135920                                                 []  en-ru  __unknown__   \n",
       "81920   [{'start': 39, 'end': 55, 'severity': 'major',...  zh-en       2021.0   \n",
       "93239   [{'start': 18, 'end': 35, 'severity': 'minor',...  zh-en       2021.0   \n",
       "\n",
       "             domain  score  \n",
       "31892          news   0.96  \n",
       "19450           ted   0.92  \n",
       "90047          news   0.80  \n",
       "135920  __unknown__   1.00  \n",
       "81920          news   0.60  \n",
       "93239          news   0.76  "
      ]
     },
     "execution_count": 34,
     "metadata": {},
     "output_type": "execute_result"
    }
   ],
   "source": [
    "extended_filtered.sample(6, random_state=1)"
   ]
  },
  {
   "cell_type": "markdown",
   "id": "cab034f2-670d-4836-83c0-dc5ac329c8dd",
   "metadata": {},
   "source": [
    "### Subsets by year and domain"
   ]
  },
  {
   "cell_type": "code",
   "execution_count": 35,
   "id": "8a633535-2f37-4afe-98e0-0af02fa8cc45",
   "metadata": {},
   "outputs": [
    {
     "data": {
      "text/plain": [
       "year         domain      \n",
       "2020.0       news            43202\n",
       "2021.0       news            26603\n",
       "             ted             24952\n",
       "2022.0       conversation    19030\n",
       "             ecommerce       14900\n",
       "             social          18085\n",
       "__unknown__  __unknown__      3713\n",
       "dtype: int64"
      ]
     },
     "execution_count": 35,
     "metadata": {},
     "output_type": "execute_result"
    }
   ],
   "source": [
    "extended_filtered.groupby([\"year\", \"domain\"]).size()"
   ]
  },
  {
   "cell_type": "markdown",
   "id": "e195a7de-24fa-470b-aab8-0daf734a6088",
   "metadata": {},
   "source": [
    "It sounds reasonable to e.g. use `social 2022` as a validation subset during experiments."
   ]
  },
  {
   "cell_type": "markdown",
   "id": "9453ed54-7128-4555-b1f8-73ee411e93c7",
   "metadata": {},
   "source": [
    "### Examples of errors"
   ]
  },
  {
   "cell_type": "code",
   "execution_count": 36,
   "id": "b8ba0278-e67c-4ee3-83b5-f895dca5bfad",
   "metadata": {},
   "outputs": [
    {
     "data": {
      "text/plain": [
       "90246"
      ]
     },
     "execution_count": 36,
     "metadata": {},
     "output_type": "execute_result"
    }
   ],
   "source": [
    "non_zero_errors = extended_filtered[extended_filtered[\"annotations\"].str.len() > 0]\n",
    "len(non_zero_errors)"
   ]
  },
  {
   "cell_type": "code",
   "execution_count": 37,
   "id": "ca63fd97-1838-47d5-97f4-b343bbd60255",
   "metadata": {},
   "outputs": [
    {
     "data": {
      "text/plain": [
       "array([[\"This one's clever. It's called obsidian.\",\n",
       "        'Dieser ist clever. Es heißt Obsidian.',\n",
       "        'Diese hier ist clever. Sie heißt Obsidium.',\n",
       "        list([{'start': 0, 'end': 6, 'severity': 'minor', 'text': 'Dieser'}, {'start': 19, 'end': 21, 'severity': 'minor', 'text': 'Es'}]),\n",
       "        'en-de', 2021.0, 'ted', 0.92]], dtype=object)"
      ]
     },
     "execution_count": 37,
     "metadata": {},
     "output_type": "execute_result"
    }
   ],
   "source": [
    "non_zero_errors.sample(n=1, random_state=222).values"
   ]
  },
  {
   "cell_type": "code",
   "execution_count": 38,
   "id": "27bf5908-4864-411c-a543-0e4a4b3f30a3",
   "metadata": {},
   "outputs": [
    {
     "data": {
      "text/plain": [
       "array([['UC Davis professor Geoff Schladow said it\\'s an \"important indicator of how healthy the lake is.\"',\n",
       "        'Geoff Schladow, Professor an der Universität im kalifornischen Davis, sagt: „Es handelt sich um einen wichtigen Hinweis zum Gesundheitszustand des Sees.“',\n",
       "        'Professor Geoff Schladow der UC Davis sagte, es sei „ein wichtiger Indikator für die Gesundheit des Sees.“',\n",
       "        list([{'start': 124, 'end': 142, 'severity': 'minor', 'text': 'Gesundheitszustand'}]),\n",
       "        'en-de', 2021.0, 'news', 0.96]], dtype=object)"
      ]
     },
     "execution_count": 38,
     "metadata": {},
     "output_type": "execute_result"
    }
   ],
   "source": [
    "non_zero_errors.sample(n=1, random_state=338).values"
   ]
  },
  {
   "cell_type": "markdown",
   "id": "2f7f58d8-ac5e-43b7-a769-7183b4ced5c4",
   "metadata": {},
   "source": [
    "### Fractions of sentences by worst error"
   ]
  },
  {
   "cell_type": "code",
   "execution_count": 39,
   "id": "9f2ce6a1-7e24-4aad-8593-3f709e85802f",
   "metadata": {},
   "outputs": [],
   "source": [
    "def worst_error(error_spans):\n",
    "    error2rank = {\n",
    "        \"minor\": 1,\n",
    "        \"major\": 2,\n",
    "        \"critical\": 3,\n",
    "    }\n",
    "    rank2error = dict(zip([0, 1, 2, 3], [\"none\", \"minor\", \"major\", \"critical\"]))\n",
    "\n",
    "    ranks = [error2rank[span[\"severity\"]] for span in error_spans]\n",
    "\n",
    "    max_rank = 0 if not ranks else max(ranks)\n",
    "\n",
    "    return rank2error[max_rank] "
   ]
  },
  {
   "cell_type": "code",
   "execution_count": 40,
   "id": "43072650-1d12-4aff-96c6-bc2e15e3d25b",
   "metadata": {},
   "outputs": [
    {
     "data": {
      "text/plain": [
       "annotations\n",
       "none        60239\n",
       "major       48363\n",
       "minor       41110\n",
       "critical      773\n",
       "Name: count, dtype: int64"
      ]
     },
     "execution_count": 40,
     "metadata": {},
     "output_type": "execute_result"
    }
   ],
   "source": [
    "extended_filtered[\"annotations\"].apply(lambda x: worst_error(x)).value_counts()"
   ]
  },
  {
   "cell_type": "code",
   "execution_count": 41,
   "id": "168a5a51-4fb8-4be9-9d6e-64a300838721",
   "metadata": {},
   "outputs": [],
   "source": [
    "val_mask = (extended_filtered[\"year\"] == 2022) & (extended_filtered[\"domain\"] == \"social\")\n",
    "\n",
    "val_error_counts = extended_filtered.loc[val_mask, \"annotations\"].apply(lambda x: worst_error(x)).value_counts()\n",
    "train_error_counts = extended_filtered.loc[~val_mask, \"annotations\"].apply(lambda x: worst_error(x)).value_counts()"
   ]
  },
  {
   "cell_type": "code",
   "execution_count": 42,
   "id": "e43ca2e3-47b4-4622-8355-8efab2a2e427",
   "metadata": {},
   "outputs": [
    {
     "data": {
      "image/png": "[encoded data removed]",
      "text/plain": [
       "<Figure size 1200x300 with 2 Axes>"
      ]
     },
     "metadata": {},
     "output_type": "display_data"
    }
   ],
   "source": [
    "plt.figure(figsize=(12, 3))\n",
    "plt.subplot(1,2,1)\n",
    "container = plt.bar(val_error_counts.index, val_error_counts.values, alpha=0.5)\n",
    "plt.bar_label(container, val_error_counts.values)\n",
    "plt.ylim(top=val_error_counts.max() * 1.15)\n",
    "plt.title(\"Validation\")\n",
    "\n",
    "plt.subplot(1,2,2)\n",
    "container = plt.bar(train_error_counts.index, train_error_counts.values, alpha=0.5)\n",
    "plt.bar_label(container, train_error_counts.values)\n",
    "plt.ylim(top=train_error_counts.max() * 1.15)\n",
    "plt.title(\"Train\")\n",
    "\n",
    "plt.tight_layout()\n",
    "plt.show()"
   ]
  },
  {
   "cell_type": "markdown",
   "id": "3adcf59e-57e6-46b6-87b0-14fd2fbf136f",
   "metadata": {},
   "source": [
    "### Search for invalid entries"
   ]
  },
  {
   "cell_type": "code",
   "execution_count": 43,
   "id": "ce4034f9-67a1-4b00-bef5-a7b159b43e98",
   "metadata": {},
   "outputs": [],
   "source": [
    "# reference of problematic sample\n",
    "ref = \"In picture 9, the peak of the heat wave of one event happens to be the trough of another event, and the time is exactly the same; it must be because a unified batch of paid internet trolls have received the task and started a new round of offensive.\""
   ]
  },
  {
   "cell_type": "code",
   "execution_count": 44,
   "id": "2e0f0b5d-732c-4709-97c1-9737ca2fbe27",
   "metadata": {},
   "outputs": [
    {
     "data": {
      "text/html": [
       "<div>\n",
       "<style scoped>\n",
       "    .dataframe tbody tr th:only-of-type {\n",
       "        vertical-align: middle;\n",
       "    }\n",
       "\n",
       "    .dataframe tbody tr th {\n",
       "        vertical-align: top;\n",
       "    }\n",
       "\n",
       "    .dataframe thead th {\n",
       "        text-align: right;\n",
       "    }\n",
       "</style>\n",
       "<table border=\"1\" class=\"dataframe\">\n",
       "  <thead>\n",
       "    <tr style=\"text-align: right;\">\n",
       "      <th></th>\n",
       "      <th>src</th>\n",
       "      <th>mt</th>\n",
       "      <th>ref</th>\n",
       "      <th>annotations</th>\n",
       "      <th>lp</th>\n",
       "      <th>year</th>\n",
       "      <th>domain</th>\n",
       "      <th>score</th>\n",
       "    </tr>\n",
       "  </thead>\n",
       "  <tbody>\n",
       "    <tr>\n",
       "      <th>65408</th>\n",
       "      <td>图9中，一个事件的热度波峰恰好是另一事件的波谷，时间分秒不差，必定是统一批水军接到任务，开启...</td>\n",
       "      <td>In Figure 9, the heat peak of one event happen...</td>\n",
       "      <td>In picture 9, the peak of the heat wave of one...</td>\n",
       "      <td>[{'start': 99, 'end': 105, 'severity': 'major'...</td>\n",
       "      <td>zh-en</td>\n",
       "      <td>2022.0</td>\n",
       "      <td>social</td>\n",
       "      <td>0.60</td>\n",
       "    </tr>\n",
       "    <tr>\n",
       "      <th>65911</th>\n",
       "      <td>图9中，一个事件的热度波峰恰好是另一事件的波谷，时间分秒不差，必定是统一批水军接到任务，开启...</td>\n",
       "      <td>In Figure 9, the peak of the heat wave of one ...</td>\n",
       "      <td>In picture 9, the peak of the heat wave of one...</td>\n",
       "      <td>[{'start': 100, 'end': 112, 'severity': 'major...</td>\n",
       "      <td>zh-en</td>\n",
       "      <td>2022.0</td>\n",
       "      <td>social</td>\n",
       "      <td>0.60</td>\n",
       "    </tr>\n",
       "    <tr>\n",
       "      <th>66414</th>\n",
       "      <td>图9中，一个事件的热度波峰恰好是另一事件的波谷，时间分秒不差，必定是统一批水军接到任务，开启...</td>\n",
       "      <td>In figure 9, the heat wave peak of one event h...</td>\n",
       "      <td>In picture 9, the peak of the heat wave of one...</td>\n",
       "      <td>[{'start': 104, 'end': 110, 'severity': 'major...</td>\n",
       "      <td>zh-en</td>\n",
       "      <td>2022.0</td>\n",
       "      <td>social</td>\n",
       "      <td>0.60</td>\n",
       "    </tr>\n",
       "    <tr>\n",
       "      <th>66917</th>\n",
       "      <td>图9中，一个事件的热度波峰恰好是另一事件的波谷，时间分秒不差，必定是统一批水军接到任务，开启...</td>\n",
       "      <td>In Figure 9, the heat peak of one event happen...</td>\n",
       "      <td>In picture 9, the peak of the heat wave of one...</td>\n",
       "      <td>[{'start': 99, 'end': 121, 'severity': 'major'...</td>\n",
       "      <td>zh-en</td>\n",
       "      <td>2022.0</td>\n",
       "      <td>social</td>\n",
       "      <td>0.80</td>\n",
       "    </tr>\n",
       "    <tr>\n",
       "      <th>67420</th>\n",
       "      <td>图9中，一个事件的热度波峰恰好是另一事件的波谷，时间分秒不差，必定是统一批水军接到任务，开启...</td>\n",
       "      <td>In Figure 9, the heat peak of one event happen...</td>\n",
       "      <td>In picture 9, the peak of the heat wave of one...</td>\n",
       "      <td>[{'start': 99, 'end': 105, 'severity': 'major'...</td>\n",
       "      <td>zh-en</td>\n",
       "      <td>2022.0</td>\n",
       "      <td>social</td>\n",
       "      <td>0.60</td>\n",
       "    </tr>\n",
       "    <tr>\n",
       "      <th>67923</th>\n",
       "      <td>图9中，一个事件的热度波峰恰好是另一事件的波谷，时间分秒不差，必定是统一批水军接到任务，开启...</td>\n",
       "      <td>In Figure 9, the heat wave of one event is exa...</td>\n",
       "      <td>In picture 9, the peak of the heat wave of one...</td>\n",
       "      <td>[{'start': 92, 'end': 98, 'severity': 'major',...</td>\n",
       "      <td>zh-en</td>\n",
       "      <td>2022.0</td>\n",
       "      <td>social</td>\n",
       "      <td>0.56</td>\n",
       "    </tr>\n",
       "    <tr>\n",
       "      <th>68426</th>\n",
       "      <td>图9中，一个事件的热度波峰恰好是另一事件的波谷，时间分秒不差，必定是统一批水军接到任务，开启...</td>\n",
       "      <td>In Figure 9, the peak of the heat of one event...</td>\n",
       "      <td>In picture 9, the peak of the heat wave of one...</td>\n",
       "      <td>[{'start': 106, 'end': 112, 'severity': 'major...</td>\n",
       "      <td>zh-en</td>\n",
       "      <td>2022.0</td>\n",
       "      <td>social</td>\n",
       "      <td>0.60</td>\n",
       "    </tr>\n",
       "    <tr>\n",
       "      <th>68929</th>\n",
       "      <td>图9中，一个事件的热度波峰恰好是另一事件的波谷，时间分秒不差，必定是统一批水军接到任务，开启...</td>\n",
       "      <td>In Figure 9, the peak of the popularity of one...</td>\n",
       "      <td>In picture 9, the peak of the heat wave of one...</td>\n",
       "      <td>[{'start': 109, 'end': 115, 'severity': 'major...</td>\n",
       "      <td>zh-en</td>\n",
       "      <td>2022.0</td>\n",
       "      <td>social</td>\n",
       "      <td>0.60</td>\n",
       "    </tr>\n",
       "    <tr>\n",
       "      <th>69432</th>\n",
       "      <td>图9中，一个事件的热度波峰恰好是另一事件的波谷，时间分秒不差，必定是统一批水军接到任务，开启...</td>\n",
       "      <td>In Figure 9, the peak of the heat of one event...</td>\n",
       "      <td>In picture 9, the peak of the heat wave of one...</td>\n",
       "      <td>[{'start': 102, 'end': 108, 'severity': 'major...</td>\n",
       "      <td>zh-en</td>\n",
       "      <td>2022.0</td>\n",
       "      <td>social</td>\n",
       "      <td>0.60</td>\n",
       "    </tr>\n",
       "    <tr>\n",
       "      <th>69935</th>\n",
       "      <td>图9中，一个事件的热度波峰恰好是另一事件的波谷，时间分秒不差，必定是统一批水军接到任务，开启...</td>\n",
       "      <td>nan</td>\n",
       "      <td>In picture 9, the peak of the heat wave of one...</td>\n",
       "      <td>[]</td>\n",
       "      <td>zh-en</td>\n",
       "      <td>2022.0</td>\n",
       "      <td>social</td>\n",
       "      <td>1.00</td>\n",
       "    </tr>\n",
       "    <tr>\n",
       "      <th>70438</th>\n",
       "      <td>图9中，一个事件的热度波峰恰好是另一事件的波谷，时间分秒不差，必定是统一批水军接到任务，开启...</td>\n",
       "      <td>In Figure 9, the peak of the popularity of one...</td>\n",
       "      <td>In picture 9, the peak of the heat wave of one...</td>\n",
       "      <td>[{'start': 116, 'end': 122, 'severity': 'major...</td>\n",
       "      <td>zh-en</td>\n",
       "      <td>2022.0</td>\n",
       "      <td>social</td>\n",
       "      <td>0.60</td>\n",
       "    </tr>\n",
       "    <tr>\n",
       "      <th>70941</th>\n",
       "      <td>图9中，一个事件的热度波峰恰好是另一事件的波谷，时间分秒不差，必定是统一批水军接到任务，开启...</td>\n",
       "      <td>In Figure 9, the peak of the popularity of one...</td>\n",
       "      <td>In picture 9, the peak of the heat wave of one...</td>\n",
       "      <td>[{'start': 105, 'end': 121, 'severity': 'major...</td>\n",
       "      <td>zh-en</td>\n",
       "      <td>2022.0</td>\n",
       "      <td>social</td>\n",
       "      <td>0.60</td>\n",
       "    </tr>\n",
       "    <tr>\n",
       "      <th>71444</th>\n",
       "      <td>图9中，一个事件的热度波峰恰好是另一事件的波谷，时间分秒不差，必定是统一批水军接到任务，开启...</td>\n",
       "      <td>In Figure 9, the heat peak of an event is exac...</td>\n",
       "      <td>In picture 9, the peak of the heat wave of one...</td>\n",
       "      <td>[{'start': 158, 'end': 172, 'severity': 'major...</td>\n",
       "      <td>zh-en</td>\n",
       "      <td>2022.0</td>\n",
       "      <td>social</td>\n",
       "      <td>0.80</td>\n",
       "    </tr>\n",
       "    <tr>\n",
       "      <th>71947</th>\n",
       "      <td>图9中，一个事件的热度波峰恰好是另一事件的波谷，时间分秒不差，必定是统一批水军接到任务，开启...</td>\n",
       "      <td>In Figure 9, the crest of one event's populari...</td>\n",
       "      <td>In picture 9, the peak of the heat wave of one...</td>\n",
       "      <td>[]</td>\n",
       "      <td>zh-en</td>\n",
       "      <td>2022.0</td>\n",
       "      <td>social</td>\n",
       "      <td>1.00</td>\n",
       "    </tr>\n",
       "    <tr>\n",
       "      <th>72450</th>\n",
       "      <td>图9中，一个事件的热度波峰恰好是另一事件的波谷，时间分秒不差，必定是统一批水军接到任务，开启...</td>\n",
       "      <td>In Figure 9, the wave peak of an event is just...</td>\n",
       "      <td>In picture 9, the peak of the heat wave of one...</td>\n",
       "      <td>[]</td>\n",
       "      <td>zh-en</td>\n",
       "      <td>2022.0</td>\n",
       "      <td>social</td>\n",
       "      <td>1.00</td>\n",
       "    </tr>\n",
       "  </tbody>\n",
       "</table>\n",
       "</div>"
      ],
      "text/plain": [
       "                                                     src  \\\n",
       "65408  图9中，一个事件的热度波峰恰好是另一事件的波谷，时间分秒不差，必定是统一批水军接到任务，开启...   \n",
       "65911  图9中，一个事件的热度波峰恰好是另一事件的波谷，时间分秒不差，必定是统一批水军接到任务，开启...   \n",
       "66414  图9中，一个事件的热度波峰恰好是另一事件的波谷，时间分秒不差，必定是统一批水军接到任务，开启...   \n",
       "66917  图9中，一个事件的热度波峰恰好是另一事件的波谷，时间分秒不差，必定是统一批水军接到任务，开启...   \n",
       "67420  图9中，一个事件的热度波峰恰好是另一事件的波谷，时间分秒不差，必定是统一批水军接到任务，开启...   \n",
       "67923  图9中，一个事件的热度波峰恰好是另一事件的波谷，时间分秒不差，必定是统一批水军接到任务，开启...   \n",
       "68426  图9中，一个事件的热度波峰恰好是另一事件的波谷，时间分秒不差，必定是统一批水军接到任务，开启...   \n",
       "68929  图9中，一个事件的热度波峰恰好是另一事件的波谷，时间分秒不差，必定是统一批水军接到任务，开启...   \n",
       "69432  图9中，一个事件的热度波峰恰好是另一事件的波谷，时间分秒不差，必定是统一批水军接到任务，开启...   \n",
       "69935  图9中，一个事件的热度波峰恰好是另一事件的波谷，时间分秒不差，必定是统一批水军接到任务，开启...   \n",
       "70438  图9中，一个事件的热度波峰恰好是另一事件的波谷，时间分秒不差，必定是统一批水军接到任务，开启...   \n",
       "70941  图9中，一个事件的热度波峰恰好是另一事件的波谷，时间分秒不差，必定是统一批水军接到任务，开启...   \n",
       "71444  图9中，一个事件的热度波峰恰好是另一事件的波谷，时间分秒不差，必定是统一批水军接到任务，开启...   \n",
       "71947  图9中，一个事件的热度波峰恰好是另一事件的波谷，时间分秒不差，必定是统一批水军接到任务，开启...   \n",
       "72450  图9中，一个事件的热度波峰恰好是另一事件的波谷，时间分秒不差，必定是统一批水军接到任务，开启...   \n",
       "\n",
       "                                                      mt  \\\n",
       "65408  In Figure 9, the heat peak of one event happen...   \n",
       "65911  In Figure 9, the peak of the heat wave of one ...   \n",
       "66414  In figure 9, the heat wave peak of one event h...   \n",
       "66917  In Figure 9, the heat peak of one event happen...   \n",
       "67420  In Figure 9, the heat peak of one event happen...   \n",
       "67923  In Figure 9, the heat wave of one event is exa...   \n",
       "68426  In Figure 9, the peak of the heat of one event...   \n",
       "68929  In Figure 9, the peak of the popularity of one...   \n",
       "69432  In Figure 9, the peak of the heat of one event...   \n",
       "69935                                                nan   \n",
       "70438  In Figure 9, the peak of the popularity of one...   \n",
       "70941  In Figure 9, the peak of the popularity of one...   \n",
       "71444  In Figure 9, the heat peak of an event is exac...   \n",
       "71947  In Figure 9, the crest of one event's populari...   \n",
       "72450  In Figure 9, the wave peak of an event is just...   \n",
       "\n",
       "                                                     ref  \\\n",
       "65408  In picture 9, the peak of the heat wave of one...   \n",
       "65911  In picture 9, the peak of the heat wave of one...   \n",
       "66414  In picture 9, the peak of the heat wave of one...   \n",
       "66917  In picture 9, the peak of the heat wave of one...   \n",
       "67420  In picture 9, the peak of the heat wave of one...   \n",
       "67923  In picture 9, the peak of the heat wave of one...   \n",
       "68426  In picture 9, the peak of the heat wave of one...   \n",
       "68929  In picture 9, the peak of the heat wave of one...   \n",
       "69432  In picture 9, the peak of the heat wave of one...   \n",
       "69935  In picture 9, the peak of the heat wave of one...   \n",
       "70438  In picture 9, the peak of the heat wave of one...   \n",
       "70941  In picture 9, the peak of the heat wave of one...   \n",
       "71444  In picture 9, the peak of the heat wave of one...   \n",
       "71947  In picture 9, the peak of the heat wave of one...   \n",
       "72450  In picture 9, the peak of the heat wave of one...   \n",
       "\n",
       "                                             annotations     lp    year  \\\n",
       "65408  [{'start': 99, 'end': 105, 'severity': 'major'...  zh-en  2022.0   \n",
       "65911  [{'start': 100, 'end': 112, 'severity': 'major...  zh-en  2022.0   \n",
       "66414  [{'start': 104, 'end': 110, 'severity': 'major...  zh-en  2022.0   \n",
       "66917  [{'start': 99, 'end': 121, 'severity': 'major'...  zh-en  2022.0   \n",
       "67420  [{'start': 99, 'end': 105, 'severity': 'major'...  zh-en  2022.0   \n",
       "67923  [{'start': 92, 'end': 98, 'severity': 'major',...  zh-en  2022.0   \n",
       "68426  [{'start': 106, 'end': 112, 'severity': 'major...  zh-en  2022.0   \n",
       "68929  [{'start': 109, 'end': 115, 'severity': 'major...  zh-en  2022.0   \n",
       "69432  [{'start': 102, 'end': 108, 'severity': 'major...  zh-en  2022.0   \n",
       "69935                                                 []  zh-en  2022.0   \n",
       "70438  [{'start': 116, 'end': 122, 'severity': 'major...  zh-en  2022.0   \n",
       "70941  [{'start': 105, 'end': 121, 'severity': 'major...  zh-en  2022.0   \n",
       "71444  [{'start': 158, 'end': 172, 'severity': 'major...  zh-en  2022.0   \n",
       "71947                                                 []  zh-en  2022.0   \n",
       "72450                                                 []  zh-en  2022.0   \n",
       "\n",
       "       domain  score  \n",
       "65408  social   0.60  \n",
       "65911  social   0.60  \n",
       "66414  social   0.60  \n",
       "66917  social   0.80  \n",
       "67420  social   0.60  \n",
       "67923  social   0.56  \n",
       "68426  social   0.60  \n",
       "68929  social   0.60  \n",
       "69432  social   0.60  \n",
       "69935  social   1.00  \n",
       "70438  social   0.60  \n",
       "70941  social   0.60  \n",
       "71444  social   0.80  \n",
       "71947  social   1.00  \n",
       "72450  social   1.00  "
      ]
     },
     "execution_count": 44,
     "metadata": {},
     "output_type": "execute_result"
    }
   ],
   "source": [
    "extended_filtered[extended_filtered[\"ref\"] == ref]"
   ]
  },
  {
   "cell_type": "code",
   "execution_count": 45,
   "id": "9baaf56f-75d4-4865-a8a5-967532e71c2d",
   "metadata": {},
   "outputs": [
    {
     "data": {
      "text/plain": [
       "1"
      ]
     },
     "execution_count": 45,
     "metadata": {},
     "output_type": "execute_result"
    }
   ],
   "source": [
    "(extended_filtered[\"mt\"] == \"nan\").sum()"
   ]
  },
  {
   "cell_type": "code",
   "execution_count": 46,
   "id": "d78a1cad-aeb1-48f8-9e02-fe9b528bc081",
   "metadata": {},
   "outputs": [
    {
     "data": {
      "text/plain": [
       "0.0"
      ]
     },
     "execution_count": 46,
     "metadata": {},
     "output_type": "execute_result"
    }
   ],
   "source": [
    "extended_filtered = extended_filtered[extended_filtered[\"mt\"] != \"nan\"]\n",
    "(extended_filtered[\"mt\"] == \"nan\").mean()"
   ]
  },
  {
   "cell_type": "markdown",
   "id": "b76c4753-407d-4488-ba07-72dbd16380cb",
   "metadata": {},
   "source": [
    "### Store dataset"
   ]
  },
  {
   "cell_type": "code",
   "execution_count": 47,
   "id": "1ab8e9e7-3bd0-4114-9fc8-45b00b649103",
   "metadata": {},
   "outputs": [],
   "source": [
    "extended_filtered.to_csv(\"data/mqm-spans-with-year-and-domain-but-no-news-2022.csv\", index=False)"
   ]
  }
 ],
 "metadata": {
  "kernelspec": {
   "display_name": "Python 3 (ipykernel)",
   "language": "python",
   "name": "python3"
  },
  "language_info": {
   "codemirror_mode": {
    "name": "ipython",
    "version": 3
   },
   "file_extension": ".py",
   "mimetype": "text/x-python",
   "name": "python",
   "nbconvert_exporter": "python",
   "pygments_lexer": "ipython3",
   "version": "3.11.5"
  }
 },
 "nbformat": 4,
 "nbformat_minor": 5
}
